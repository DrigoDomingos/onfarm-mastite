{
 "cells": [
  {
   "cell_type": "code",
   "execution_count": null,
   "metadata": {},
   "outputs": [],
   "source": [
    "#!/usr/bin/python\n",
    "import boto3\n",
    "s3=boto3.client('s3')\n",
    "list=s3.list_objects(Bucket='onfarm-deep-learning-azul-claro')['Contents']\n",
    "for s3_key in list:\n",
    "    s3_object = s3_key['Key']\n",
    "    if not s3_object.endswith(\"/\"):\n",
    "        s3.download_file('onfarm-deep-learning-azul-claro', s3_object, s3_object)\n",
    "    else:\n",
    "        import os\n",
    "        if not os.path.exists(s3_object):\n",
    "            os.makedirs(s3_object)"
   ]
  },
  {
   "cell_type": "code",
   "execution_count": null,
   "metadata": {},
   "outputs": [],
   "source": [
    "!pip install -r requirements.txt"
   ]
  }
 ],
 "metadata": {
  "kernelspec": {
   "display_name": "conda_tensorflow_p36",
   "language": "python",
   "name": "conda_tensorflow_p36"
  },
  "language_info": {
   "codemirror_mode": {
    "name": "ipython",
    "version": 3
   },
   "file_extension": ".py",
   "mimetype": "text/x-python",
   "name": "python",
   "nbconvert_exporter": "python",
   "pygments_lexer": "ipython3",
   "version": "3.6.5"
  }
 },
 "nbformat": 4,
 "nbformat_minor": 4
}
